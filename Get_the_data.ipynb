{
 "cells": [
  {
   "cell_type": "code",
   "execution_count": 1,
   "metadata": {},
   "outputs": [],
   "source": [
    "import urllib.request\n",
    "import zipfile\n",
    "import os\n",
    "import pandas as pd\n",
    "import glob"
   ]
  },
  {
   "cell_type": "code",
   "execution_count": null,
   "metadata": {
    "scrolled": true
   },
   "outputs": [],
   "source": [
    "# Get the data from IMGW website\n",
    "for i in range(1951,2001):\n",
    "    start = i - (i-1)%5\n",
    "    end = start + 4\n",
    "    years_range = str(start) + '_' + str(end)\n",
    "    url = f'https://dane.imgw.pl/data/dane_pomiarowo_obserwacyjne/dane_meteorologiczne/dobowe/klimat/{years_range}/{i}_k.zip'\n",
    "    print(url)\n",
    "    urllib.request.urlretrieve(url, f'IMGW_data/{i}.zip')\n",
    "    \n",
    "for i in range(2001,2020):\n",
    "    for j in range(1,13):\n",
    "        url = f'https://dane.imgw.pl/data/dane_pomiarowo_obserwacyjne/dane_meteorologiczne/dobowe/klimat/{i}/{i}_{j:02}_k.zip'\n",
    "        print(url)\n",
    "        urllib.request.urlretrieve(url, f'IMGW_data/{i}_{j}.zip')"
   ]
  },
  {
   "cell_type": "code",
   "execution_count": 23,
   "metadata": {},
   "outputs": [],
   "source": [
    "#Create the folder to write unzipped data\n",
    "new_dir = r'IMGW_data/unzipped' \n",
    "if not os.path.exists(new_dir):\n",
    "    os.makedirs(new_dir)"
   ]
  },
  {
   "cell_type": "code",
   "execution_count": 24,
   "metadata": {},
   "outputs": [],
   "source": [
    "#Unzip files\n",
    "for i in range(1951,2001):\n",
    "    with zipfile.ZipFile(f'IMGW_data/{i}.zip') as z:\n",
    "        with open(f'IMGW_data/unzipped/{i}.csv', 'wb') as f:\n",
    "            f.write(z.read(f'k_d_{i}.csv'))\n",
    "for i in range(2001,2020):\n",
    "    for j in range(1,13):\n",
    "         with zipfile.ZipFile(f'IMGW_data/{i}_{j}.zip') as z:\n",
    "            with open(f'IMGW_data/unzipped/{i}_{j}.csv', 'wb') as f:\n",
    "                f.write(z.read(f'k_d_{j:02}_{i}.csv'))"
   ]
  },
  {
   "cell_type": "code",
   "execution_count": 2,
   "metadata": {},
   "outputs": [],
   "source": [
    "#Get the list of files\n",
    "all_filenames = [i for i in glob.glob('IMGW_data/unzipped/*.csv')]"
   ]
  },
  {
   "cell_type": "code",
   "execution_count": 3,
   "metadata": {},
   "outputs": [],
   "source": [
    "#Combine the contents of all the .csv files into one\n",
    "combined_csv = pd.concat([pd.read_csv(f,sep=',',decimal='.',encoding='windows-1250',\n",
    "                                      names =['station_code','station_name','year','month','day',\n",
    "                                                'temp_max','temp_max_stat','temp_min', 'temp_min_stat',\n",
    "                                                'temp_avg','temp_avg_stat','temp_min_ground','temp_min_ground_stat',\n",
    "                                               'sum_prec','sum_prec_stat','prec_type',\n",
    "                                               'snow_height','snow_height_stat']) for f in all_filenames ],ignore_index=True)"
   ]
  },
  {
   "cell_type": "code",
   "execution_count": 4,
   "metadata": {},
   "outputs": [],
   "source": [
    "#Add field 'date'\n",
    "combined_csv['date'] = pd.to_datetime(combined_csv.loc[:,['year','month','day']],format = '%Y/%m/%d').dt.date"
   ]
  },
  {
   "cell_type": "code",
   "execution_count": 8,
   "metadata": {},
   "outputs": [],
   "source": [
    "#Sort the rows by date for every station\n",
    "combined_csv.sort_values(['station_code','date'],inplace=True)"
   ]
  },
  {
   "cell_type": "code",
   "execution_count": 9,
   "metadata": {},
   "outputs": [],
   "source": [
    "#dump the DF\n",
    "combined_csv.to_pickle('IMGW_data\\meteo_data_all.pickle')"
   ]
  }
 ],
 "metadata": {
  "kernelspec": {
   "display_name": "Python 3",
   "language": "python",
   "name": "python3"
  },
  "language_info": {
   "codemirror_mode": {
    "name": "ipython",
    "version": 3
   },
   "file_extension": ".py",
   "mimetype": "text/x-python",
   "name": "python",
   "nbconvert_exporter": "python",
   "pygments_lexer": "ipython3",
   "version": "3.7.4"
  }
 },
 "nbformat": 4,
 "nbformat_minor": 2
}
