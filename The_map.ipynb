{
 "cells": [
  {
   "cell_type": "code",
   "execution_count": 1,
   "metadata": {},
   "outputs": [],
   "source": [
    "import pandas as pd\n",
    "import geopandas as gpd\n",
    "from matplotlib import pyplot as plt\n",
    "import descartes\n",
    "from shapely.geometry import Point\n",
    "from shapely.geometry.polygon import Polygon\n",
    "import datetime\n",
    "import numpy as np\n",
    "import math\n",
    "import mapclassify\n",
    "import json\n",
    "import seaborn\n",
    "import ipywidgets as widgets\n",
    "from IPython.display import display\n",
    "from collections import namedtuple\n",
    "import time"
   ]
  },
  {
   "cell_type": "code",
   "execution_count": 2,
   "metadata": {},
   "outputs": [],
   "source": [
    "%matplotlib inline"
   ]
  },
  {
   "cell_type": "code",
   "execution_count": 3,
   "metadata": {},
   "outputs": [],
   "source": [
    "stations = pd.read_json(\"http://monitor.pogodynka.pl/api/map/?category=meteo\")"
   ]
  },
  {
   "cell_type": "code",
   "execution_count": 4,
   "metadata": {},
   "outputs": [],
   "source": [
    "stations = stations[['i','n','la','lo']]"
   ]
  },
  {
   "cell_type": "markdown",
   "metadata": {},
   "source": [
    "Polygons data for voivodeships downloaded from http://www.gugik.gov.pl/pzgik/dane-bez-oplat/dane-z-panstwowego-rejestru-granic-i-powierzchni-jednostek-podzialow-terytorialnych-kraju-prg .\n",
    "\n",
    "Exact url of the .zip file : ftp://91.223.135.109/prg/jednostki_administracyjne.zip"
   ]
  },
  {
   "cell_type": "code",
   "execution_count": 5,
   "metadata": {},
   "outputs": [],
   "source": [
    "voi = gpd.read_file('map/voivodeships.shp',encoding='windows-1250')\n",
    "voi['woj_nazwa'] = ['Śląskie','Opolskie','Wielkopolskie','Zachodniopomorskie','Świętokrzyskie','Kujawsko-Pomorskiej',\n",
    "                  'Podlaskie','Dolnośląskie','Podkarpackie','Małopolskie','Pomorskie','Warmińsko-Mazurskie', 'Łódzkie','Mazowieckie',\n",
    "                  'Lubelskie','Lubuskie'] \n",
    "voi = voi[['JPT_KOD_JE','geometry','woj_nazwa']]\n",
    "voi.columns=['voi_id','geometry','voi_name']"
   ]
  },
  {
   "cell_type": "code",
   "execution_count": 6,
   "metadata": {},
   "outputs": [],
   "source": [
    "voi['geometry'] = voi['geometry'].apply(lambda x: x.simplify(tolerance=0.01)) #for speeding up the map"
   ]
  },
  {
   "cell_type": "code",
   "execution_count": 7,
   "metadata": {},
   "outputs": [],
   "source": [
    "stations = gpd.GeoDataFrame(\n",
    "    stations, geometry=gpd.points_from_xy(stations.lo, stations.la),crs=voi.crs) # setting crs"
   ]
  },
  {
   "cell_type": "code",
   "execution_count": 8,
   "metadata": {
    "scrolled": true
   },
   "outputs": [],
   "source": [
    "map_pl = gpd.sjoin(stations, voi, how='right',op='within',lsuffix='x',rsuffix='y')"
   ]
  },
  {
   "cell_type": "code",
   "execution_count": 9,
   "metadata": {},
   "outputs": [],
   "source": [
    "stations['key_temp']=1\n",
    "voi['key_temp']=1\n",
    "map_pl_ = pd.merge(stations,voi,on = 'key_temp',how='outer')"
   ]
  },
  {
   "cell_type": "code",
   "execution_count": 10,
   "metadata": {},
   "outputs": [],
   "source": [
    "map_pl = map_pl.loc[:,['i','n','la','lo','voi_id','voi_name','geometry']]\n",
    "map_pl = map_pl.rename(columns = {'i':'station_code', 'n':'station_name'})"
   ]
  },
  {
   "cell_type": "code",
   "execution_count": 11,
   "metadata": {},
   "outputs": [],
   "source": [
    "meteo_data = pd.read_pickle('IMGW_data/meteo_data_all.pickle')  "
   ]
  },
  {
   "cell_type": "code",
   "execution_count": 12,
   "metadata": {},
   "outputs": [],
   "source": [
    "meteo_data = pd.merge(meteo_data, map_pl, on ='station_code',how = 'left' )"
   ]
  },
  {
   "cell_type": "code",
   "execution_count": 13,
   "metadata": {},
   "outputs": [],
   "source": [
    "#function used to measure performance while creating the map\n",
    "def stoper(f):\n",
    "    def new_f(*args,**kwargs):\n",
    "        start_time = time.time()\n",
    "        result = f(*args, **kwargs)\n",
    "        stop_time = time.time()\n",
    "        print(f'Time of work {stop_time-start_time}')\n",
    "        return result\n",
    "    return new_f"
   ]
  },
  {
   "cell_type": "code",
   "execution_count": 14,
   "metadata": {},
   "outputs": [],
   "source": [
    "avg_temp_voi_dt = pd.DataFrame(meteo_data.groupby(['year','date','voi_id'])['temp_avg'].mean())\n",
    "avg_temp_voi_dt.reset_index(level=['year','voi_id'],inplace=True)"
   ]
  },
  {
   "cell_type": "code",
   "execution_count": 15,
   "metadata": {},
   "outputs": [],
   "source": [
    "#generic map per given day\n",
    "def draw_map(dt):\n",
    "    one_day_data = avg_temp_voi_dt.loc[dt]\n",
    "    one_day_data = gpd.GeoDataFrame(pd.merge(one_day_data, voi, how= 'right',left_on= 'voi_id',right_on='voi_id'))\n",
    "    #layers with and without data\n",
    "    one_day_data_no = one_day_data[one_day_data.temp_avg.isna()]\n",
    "    one_day_data_yes = one_day_data[one_day_data.temp_avg.isna() == False]\n",
    "\n",
    "    #draw\n",
    "    fig, ax = plt.subplots(1, 1)\n",
    "    ax.axis('off')\n",
    "\n",
    "    one_day_data_yes.plot(column='temp_avg',\n",
    "                cmap='gist_rainbow_r',\n",
    "                ax=ax,\n",
    "                legend=True,\n",
    "                vmin =-25,\n",
    "                vmax = 30,\n",
    "                legend_kwds={'label': \"Average temperature in a voivodeship\"}\n",
    "               ).set_aspect(1.62) \n",
    "    if(one_day_data_no.empty == False):\n",
    "        one_day_data_no.plot(ax=ax,\n",
    "                     color='lightgrey').set_aspect(1.62)\n",
    "    plt.show()"
   ]
  },
  {
   "cell_type": "code",
   "execution_count": 16,
   "metadata": {},
   "outputs": [],
   "source": [
    "#adding a slider\n",
    "dates = meteo_data.date.unique()\n",
    "dates.sort()\n",
    "\n",
    "slider = widgets.SelectionSlider(\n",
    "    options=dates,\n",
    "    value=dates[-1],\n",
    "    continuous_update=False,\n",
    "    disabled=False\n",
    "    )\n",
    "\n",
    "output_map = widgets.Output()\n",
    "\n",
    "def react_with_slider(change):\n",
    "    output_map.clear_output(wait=True)\n",
    "    with output_map:\n",
    "        draw_map(change.new)\n",
    "\n",
    "slider.observe(react_with_slider, names='value')\n",
    "\n",
    "# function that chooses only the data that applies to dropdown option\n",
    "def chosen_year(DF):\n",
    "    dates = np.array(pd.Series(DF.index).unique())\n",
    "    dates.sort()\n",
    "    Dummy = namedtuple('Dummy', ['new'])\n",
    "    dummy = Dummy(dates[-1])\n",
    "    slider.unobserve(react_with_slider, names='value')\n",
    "    slider.options =  dates\n",
    "    slider.value = dates[-1]\n",
    "    slider.observe(react_with_slider, names='value')\n",
    "            \n",
    "    react_with_slider(dummy)"
   ]
  },
  {
   "cell_type": "code",
   "execution_count": 17,
   "metadata": {},
   "outputs": [
    {
     "data": {
      "application/vnd.jupyter.widget-view+json": {
       "model_id": "5c1f523b667e4b2a93c9089b1b59deb2",
       "version_major": 2,
       "version_minor": 0
      },
      "text/plain": [
       "Dropdown(description='Choose year', options=('All', '2019', '2018', '2017', '2016', '2015', '2014', '2013', '2…"
      ]
     },
     "metadata": {},
     "output_type": "display_data"
    },
    {
     "data": {
      "application/vnd.jupyter.widget-view+json": {
       "model_id": "3d96c307b454400db7e20ce1fa3daa11",
       "version_major": 2,
       "version_minor": 0
      },
      "text/plain": [
       "Output()"
      ]
     },
     "metadata": {},
     "output_type": "display_data"
    },
    {
     "data": {
      "application/vnd.jupyter.widget-view+json": {
       "model_id": "38e4ac923a544d74a8e68ced58c58acc",
       "version_major": 2,
       "version_minor": 0
      },
      "text/plain": [
       "SelectionSlider(continuous_update=False, index=25201, options=(datetime.date(1951, 1, 1), datetime.date(1951, …"
      ]
     },
     "metadata": {},
     "output_type": "display_data"
    }
   ],
   "source": [
    "#adding a dropdown\n",
    "years = avg_temp_voi_dt.year.unique()\n",
    "years[::-1].sort()\n",
    "years=years.astype(str)\n",
    "years = np.insert(years,0,'All')\n",
    "dropdown = widgets.Dropdown(\n",
    "    options=list(years),\n",
    "    value=years[0],\n",
    "    description='Choose year',\n",
    "    disabled=False\n",
    ")\n",
    "\n",
    "def react_with_dropdown(change):\n",
    "    output_map.clear_output(wait=True)\n",
    "    if (change.new == 'All'):\n",
    "        chosen_year(avg_temp_voi_dt)\n",
    "    else:\n",
    "        chosen_year(avg_temp_voi_dt[avg_temp_voi_dt.year == int(change.new)])\n",
    "dropdown.observe(react_with_dropdown,names='value')\n",
    "display(dropdown)\n",
    "display(output_map)\n",
    "display(slider)\n",
    "chosen_year(avg_temp_voi_dt)"
   ]
  },
  {
   "cell_type": "markdown",
   "metadata": {},
   "source": [
    "#### Please download and execute the notebook to be able to use the map. Below you can find a small preview."
   ]
  },
  {
   "cell_type": "markdown",
   "metadata": {},
   "source": [
    "![Map_GIF](screenshots/map_preview.gif)"
   ]
  }
 ],
 "metadata": {
  "kernelspec": {
   "display_name": "Python [conda env:geo_env]",
   "language": "python",
   "name": "conda-env-geo_env-py"
  },
  "language_info": {
   "codemirror_mode": {
    "name": "ipython",
    "version": 3
   },
   "file_extension": ".py",
   "mimetype": "text/x-python",
   "name": "python",
   "nbconvert_exporter": "python",
   "pygments_lexer": "ipython3",
   "version": "3.7.6"
  },
  "pycharm": {
   "stem_cell": {
    "cell_type": "raw",
    "metadata": {
     "collapsed": false
    },
    "source": []
   }
  }
 },
 "nbformat": 4,
 "nbformat_minor": 2
}
